{
 "cells": [
  {
   "cell_type": "code",
   "execution_count": 5,
   "metadata": {},
   "outputs": [],
   "source": [
    "from tkinter import *\n",
    "\n",
    "root = Tk()\n",
    "root.geometry('500x500')\n",
    "root.title(\"tk\")\n",
    "\n",
    "label_0 = Label(root, text=\"Banking\",width=20,font=(\"bold\", 20))\n",
    "label_0.place(x=90,y=53)\n",
    "\n",
    "\n",
    "label_1 = Label(root, text=\"Custid\",width=20,font=(\"bold\", 10))\n",
    "label_1.place(x=80,y=130)\n",
    "\n",
    "entry_1 = Entry(root)\n",
    "entry_1.place(x=205,y=130)\n",
    "\n",
    "label_2 = Label(root, text=\"Customer Name:\",width=20,font=(\"bold\", 10))\n",
    "label_2.place(x=68,y=175)\n",
    "\n",
    "entry_2 = Entry(root)\n",
    "entry_2.place(x=205,y=178)\n",
    "\n",
    "label_2_ = Label(root, text=\"Branch\",width=20,font=(\"bold\", 10))\n",
    "label_2_.place(x=68,y=220)\n",
    "\n",
    "entry_2_ = Entry(root)\n",
    "entry_2_.place(x=205,y=220)\n",
    "\n",
    "label_3 = Label(root, text=\"account type\",width=20,font=(\"bold\", 10))\n",
    "label_3.place(x=70,y=255)\n",
    "var = IntVar()\n",
    "Radiobutton(root, text=\"Saving\",padx = 5, variable=var, value=1).place(x=235,y=255)\n",
    "Radiobutton(root, text=\"Non Saving\",padx = 20, variable=var, value=2).place(x=300,y=255)\n",
    "\n",
    "label_4 = Label(root, text=\"Amount\",width=20,font=(\"bold\", 10))\n",
    "label_4.place(x=70,y=295)\n",
    "\n",
    "v1 = DoubleVar()\n",
    "s1 = Scale( root, variable = v1, \n",
    "           from_ = 19, to = 10000, \n",
    "           orient = HORIZONTAL)   \n",
    "  \n",
    "l1 = Label(root)\n",
    "s1.pack(anchor = CENTER) \n",
    "l1.pack() \n",
    "s1.place(x=240,y=280)\n",
    "\n",
    "\n",
    "Button(root, text='Insert',height=2,width=5,foreground='black').place(x=180,y=380)\n",
    "Button(root, text='Update',height=2,width=5,foreground='black').place(x=330,y=380)\n",
    "Button(root, text='Delete',height=2,width=5,foreground='black').place(x=180,y=420)\n",
    "Button(root, text='Select',height=2,width=5,foreground='black').place(x=330,y=420)\n",
    "\n",
    "root.mainloop()"
   ]
  }
 ],
 "metadata": {
  "interpreter": {
   "hash": "817f1e3cada78af57ffc180ac53d91a26f20def16fcdd2dd2a3aac8f95b6f0a2"
  },
  "kernelspec": {
   "display_name": "Python 3.10.4 64-bit",
   "language": "python",
   "name": "python3"
  },
  "language_info": {
   "codemirror_mode": {
    "name": "ipython",
    "version": 3
   },
   "file_extension": ".py",
   "mimetype": "text/x-python",
   "name": "python",
   "nbconvert_exporter": "python",
   "pygments_lexer": "ipython3",
   "version": "3.10.4"
  },
  "orig_nbformat": 4
 },
 "nbformat": 4,
 "nbformat_minor": 2
}
